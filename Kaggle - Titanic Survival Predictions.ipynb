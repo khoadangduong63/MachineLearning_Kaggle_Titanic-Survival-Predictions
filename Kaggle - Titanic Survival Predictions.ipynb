{
 "cells": [
  {
   "cell_type": "markdown",
   "metadata": {},
   "source": [
    "# Dự đoán kết quả sống hoặc chết của hành khách trên tàu Titanic bằng mạng neural\n",
    "\n",
    "---\n",
    "## Tổng thể\n",
    "\n",
    "Các bước xử lý:\n",
    "\n",
    "    1/ Tiền xử lý dữ liệu\n",
    "    2/ Huấn luyện Neural Network với L2 regularization (weight decay) và early stopping.\n",
    "\n",
    "Bộ dữ liệu được sử dụng là bộ [Kaggle Titanic](https://www.kaggle.com/c/titanic). Trong đó, input là thông tin của hành khách trên tàu Titanic, output là một trong hai lớp sống/chết (1/0). \n",
    "\n",
    "Các file dữ liệu mà Kaggle cung cấp: `train.csv` - tập huấn luyện, `test.csv` - tập kiểm tra (chỉ có input). \n",
    "\n",
    "Ý nghĩa của các cột trong file `description.txt` đính kèm."
   ]
  },
  {
   "cell_type": "markdown",
   "metadata": {},
   "source": [
    "---\n",
    "## Import thư viện cần thiết \n",
    "<font color=red>Lưu ý: Dùng Sklearn phiên bản > 0.19</font>."
   ]
  },
  {
   "cell_type": "code",
   "execution_count": 1,
   "metadata": {},
   "outputs": [
    {
     "data": {
      "text/plain": [
       "'0.20.1'"
      ]
     },
     "execution_count": 1,
     "metadata": {},
     "output_type": "execute_result"
    }
   ],
   "source": [
    "import sklearn\n",
    "sklearn.__version__"
   ]
  },
  {
   "cell_type": "code",
   "execution_count": 2,
   "metadata": {},
   "outputs": [],
   "source": [
    "%matplotlib inline\n",
    "import matplotlib.pyplot as plt\n",
    "import pandas as pd\n",
    "import numpy as np\n",
    "\n",
    "from sklearn.model_selection import train_test_split\n",
    "from sklearn.preprocessing import OneHotEncoder, StandardScaler\n",
    "from sklearn.impute import SimpleImputer\n",
    "from sklearn.base import BaseEstimator, TransformerMixin, clone\n",
    "from sklearn.pipeline import Pipeline, make_pipeline\n",
    "from sklearn.compose import ColumnTransformer, make_column_transformer\n",
    "from sklearn.neural_network import MLPClassifier\n",
    "\n",
    "from copy import deepcopy"
   ]
  },
  {
   "cell_type": "markdown",
   "metadata": {},
   "source": [
    "---\n",
    "## Đọc tập huấn luyện vào data frame và tách ra tập validation"
   ]
  },
  {
   "cell_type": "code",
   "execution_count": 3,
   "metadata": {},
   "outputs": [
    {
     "data": {
      "text/html": [
       "<div>\n",
       "<style scoped>\n",
       "    .dataframe tbody tr th:only-of-type {\n",
       "        vertical-align: middle;\n",
       "    }\n",
       "\n",
       "    .dataframe tbody tr th {\n",
       "        vertical-align: top;\n",
       "    }\n",
       "\n",
       "    .dataframe thead th {\n",
       "        text-align: right;\n",
       "    }\n",
       "</style>\n",
       "<table border=\"1\" class=\"dataframe\">\n",
       "  <thead>\n",
       "    <tr style=\"text-align: right;\">\n",
       "      <th></th>\n",
       "      <th>Survived</th>\n",
       "      <th>Pclass</th>\n",
       "      <th>Name</th>\n",
       "      <th>Sex</th>\n",
       "      <th>Age</th>\n",
       "      <th>SibSp</th>\n",
       "      <th>Parch</th>\n",
       "      <th>Ticket</th>\n",
       "      <th>Fare</th>\n",
       "      <th>Cabin</th>\n",
       "      <th>Embarked</th>\n",
       "    </tr>\n",
       "    <tr>\n",
       "      <th>PassengerId</th>\n",
       "      <th></th>\n",
       "      <th></th>\n",
       "      <th></th>\n",
       "      <th></th>\n",
       "      <th></th>\n",
       "      <th></th>\n",
       "      <th></th>\n",
       "      <th></th>\n",
       "      <th></th>\n",
       "      <th></th>\n",
       "      <th></th>\n",
       "    </tr>\n",
       "  </thead>\n",
       "  <tbody>\n",
       "    <tr>\n",
       "      <th>1</th>\n",
       "      <td>0</td>\n",
       "      <td>3</td>\n",
       "      <td>Braund, Mr. Owen Harris</td>\n",
       "      <td>male</td>\n",
       "      <td>22.0</td>\n",
       "      <td>1</td>\n",
       "      <td>0</td>\n",
       "      <td>A/5 21171</td>\n",
       "      <td>7.2500</td>\n",
       "      <td>NaN</td>\n",
       "      <td>S</td>\n",
       "    </tr>\n",
       "    <tr>\n",
       "      <th>2</th>\n",
       "      <td>1</td>\n",
       "      <td>1</td>\n",
       "      <td>Cumings, Mrs. John Bradley (Florence Briggs Th...</td>\n",
       "      <td>female</td>\n",
       "      <td>38.0</td>\n",
       "      <td>1</td>\n",
       "      <td>0</td>\n",
       "      <td>PC 17599</td>\n",
       "      <td>71.2833</td>\n",
       "      <td>C85</td>\n",
       "      <td>C</td>\n",
       "    </tr>\n",
       "    <tr>\n",
       "      <th>3</th>\n",
       "      <td>1</td>\n",
       "      <td>3</td>\n",
       "      <td>Heikkinen, Miss. Laina</td>\n",
       "      <td>female</td>\n",
       "      <td>26.0</td>\n",
       "      <td>0</td>\n",
       "      <td>0</td>\n",
       "      <td>STON/O2. 3101282</td>\n",
       "      <td>7.9250</td>\n",
       "      <td>NaN</td>\n",
       "      <td>S</td>\n",
       "    </tr>\n",
       "  </tbody>\n",
       "</table>\n",
       "</div>"
      ],
      "text/plain": [
       "             Survived  Pclass  \\\n",
       "PassengerId                     \n",
       "1                   0       3   \n",
       "2                   1       1   \n",
       "3                   1       3   \n",
       "\n",
       "                                                          Name     Sex   Age  \\\n",
       "PassengerId                                                                    \n",
       "1                                      Braund, Mr. Owen Harris    male  22.0   \n",
       "2            Cumings, Mrs. John Bradley (Florence Briggs Th...  female  38.0   \n",
       "3                                       Heikkinen, Miss. Laina  female  26.0   \n",
       "\n",
       "             SibSp  Parch            Ticket     Fare Cabin Embarked  \n",
       "PassengerId                                                          \n",
       "1                1      0         A/5 21171   7.2500   NaN        S  \n",
       "2                1      0          PC 17599  71.2833   C85        C  \n",
       "3                0      0  STON/O2. 3101282   7.9250   NaN        S  "
      ]
     },
     "execution_count": 3,
     "metadata": {},
     "output_type": "execute_result"
    }
   ],
   "source": [
    "data_df = pd.read_csv('train.csv', index_col=0)\n",
    "data_df.head(3)"
   ]
  },
  {
   "cell_type": "code",
   "execution_count": 4,
   "metadata": {},
   "outputs": [
    {
     "name": "stdout",
     "output_type": "stream",
     "text": [
      "<class 'pandas.core.frame.DataFrame'>\n",
      "Int64Index: 891 entries, 1 to 891\n",
      "Data columns (total 11 columns):\n",
      "Survived    891 non-null int64\n",
      "Pclass      891 non-null int64\n",
      "Name        891 non-null object\n",
      "Sex         891 non-null object\n",
      "Age         714 non-null float64\n",
      "SibSp       891 non-null int64\n",
      "Parch       891 non-null int64\n",
      "Ticket      891 non-null object\n",
      "Fare        891 non-null float64\n",
      "Cabin       204 non-null object\n",
      "Embarked    889 non-null object\n",
      "dtypes: float64(2), int64(4), object(5)\n",
      "memory usage: 83.5+ KB\n"
     ]
    }
   ],
   "source": [
    "data_df.info()"
   ]
  },
  {
   "cell_type": "code",
   "execution_count": 5,
   "metadata": {},
   "outputs": [
    {
     "data": {
      "text/html": [
       "<div>\n",
       "<style scoped>\n",
       "    .dataframe tbody tr th:only-of-type {\n",
       "        vertical-align: middle;\n",
       "    }\n",
       "\n",
       "    .dataframe tbody tr th {\n",
       "        vertical-align: top;\n",
       "    }\n",
       "\n",
       "    .dataframe thead th {\n",
       "        text-align: right;\n",
       "    }\n",
       "</style>\n",
       "<table border=\"1\" class=\"dataframe\">\n",
       "  <thead>\n",
       "    <tr style=\"text-align: right;\">\n",
       "      <th></th>\n",
       "      <th>Survived</th>\n",
       "      <th>Pclass</th>\n",
       "      <th>Name</th>\n",
       "      <th>Sex</th>\n",
       "      <th>Age</th>\n",
       "      <th>SibSp</th>\n",
       "      <th>Parch</th>\n",
       "      <th>Ticket</th>\n",
       "      <th>Fare</th>\n",
       "      <th>Cabin</th>\n",
       "      <th>Embarked</th>\n",
       "    </tr>\n",
       "  </thead>\n",
       "  <tbody>\n",
       "    <tr>\n",
       "      <th>count</th>\n",
       "      <td>891.000000</td>\n",
       "      <td>891.000000</td>\n",
       "      <td>891</td>\n",
       "      <td>891</td>\n",
       "      <td>714.000000</td>\n",
       "      <td>891.000000</td>\n",
       "      <td>891.000000</td>\n",
       "      <td>891</td>\n",
       "      <td>891.000000</td>\n",
       "      <td>204</td>\n",
       "      <td>889</td>\n",
       "    </tr>\n",
       "    <tr>\n",
       "      <th>unique</th>\n",
       "      <td>NaN</td>\n",
       "      <td>NaN</td>\n",
       "      <td>891</td>\n",
       "      <td>2</td>\n",
       "      <td>NaN</td>\n",
       "      <td>NaN</td>\n",
       "      <td>NaN</td>\n",
       "      <td>681</td>\n",
       "      <td>NaN</td>\n",
       "      <td>147</td>\n",
       "      <td>3</td>\n",
       "    </tr>\n",
       "    <tr>\n",
       "      <th>top</th>\n",
       "      <td>NaN</td>\n",
       "      <td>NaN</td>\n",
       "      <td>Palsson, Master. Gosta Leonard</td>\n",
       "      <td>male</td>\n",
       "      <td>NaN</td>\n",
       "      <td>NaN</td>\n",
       "      <td>NaN</td>\n",
       "      <td>1601</td>\n",
       "      <td>NaN</td>\n",
       "      <td>C23 C25 C27</td>\n",
       "      <td>S</td>\n",
       "    </tr>\n",
       "    <tr>\n",
       "      <th>freq</th>\n",
       "      <td>NaN</td>\n",
       "      <td>NaN</td>\n",
       "      <td>1</td>\n",
       "      <td>577</td>\n",
       "      <td>NaN</td>\n",
       "      <td>NaN</td>\n",
       "      <td>NaN</td>\n",
       "      <td>7</td>\n",
       "      <td>NaN</td>\n",
       "      <td>4</td>\n",
       "      <td>644</td>\n",
       "    </tr>\n",
       "    <tr>\n",
       "      <th>mean</th>\n",
       "      <td>0.383838</td>\n",
       "      <td>2.308642</td>\n",
       "      <td>NaN</td>\n",
       "      <td>NaN</td>\n",
       "      <td>29.699118</td>\n",
       "      <td>0.523008</td>\n",
       "      <td>0.381594</td>\n",
       "      <td>NaN</td>\n",
       "      <td>32.204208</td>\n",
       "      <td>NaN</td>\n",
       "      <td>NaN</td>\n",
       "    </tr>\n",
       "    <tr>\n",
       "      <th>std</th>\n",
       "      <td>0.486592</td>\n",
       "      <td>0.836071</td>\n",
       "      <td>NaN</td>\n",
       "      <td>NaN</td>\n",
       "      <td>14.526497</td>\n",
       "      <td>1.102743</td>\n",
       "      <td>0.806057</td>\n",
       "      <td>NaN</td>\n",
       "      <td>49.693429</td>\n",
       "      <td>NaN</td>\n",
       "      <td>NaN</td>\n",
       "    </tr>\n",
       "    <tr>\n",
       "      <th>min</th>\n",
       "      <td>0.000000</td>\n",
       "      <td>1.000000</td>\n",
       "      <td>NaN</td>\n",
       "      <td>NaN</td>\n",
       "      <td>0.420000</td>\n",
       "      <td>0.000000</td>\n",
       "      <td>0.000000</td>\n",
       "      <td>NaN</td>\n",
       "      <td>0.000000</td>\n",
       "      <td>NaN</td>\n",
       "      <td>NaN</td>\n",
       "    </tr>\n",
       "    <tr>\n",
       "      <th>25%</th>\n",
       "      <td>0.000000</td>\n",
       "      <td>2.000000</td>\n",
       "      <td>NaN</td>\n",
       "      <td>NaN</td>\n",
       "      <td>20.125000</td>\n",
       "      <td>0.000000</td>\n",
       "      <td>0.000000</td>\n",
       "      <td>NaN</td>\n",
       "      <td>7.910400</td>\n",
       "      <td>NaN</td>\n",
       "      <td>NaN</td>\n",
       "    </tr>\n",
       "    <tr>\n",
       "      <th>50%</th>\n",
       "      <td>0.000000</td>\n",
       "      <td>3.000000</td>\n",
       "      <td>NaN</td>\n",
       "      <td>NaN</td>\n",
       "      <td>28.000000</td>\n",
       "      <td>0.000000</td>\n",
       "      <td>0.000000</td>\n",
       "      <td>NaN</td>\n",
       "      <td>14.454200</td>\n",
       "      <td>NaN</td>\n",
       "      <td>NaN</td>\n",
       "    </tr>\n",
       "    <tr>\n",
       "      <th>75%</th>\n",
       "      <td>1.000000</td>\n",
       "      <td>3.000000</td>\n",
       "      <td>NaN</td>\n",
       "      <td>NaN</td>\n",
       "      <td>38.000000</td>\n",
       "      <td>1.000000</td>\n",
       "      <td>0.000000</td>\n",
       "      <td>NaN</td>\n",
       "      <td>31.000000</td>\n",
       "      <td>NaN</td>\n",
       "      <td>NaN</td>\n",
       "    </tr>\n",
       "    <tr>\n",
       "      <th>max</th>\n",
       "      <td>1.000000</td>\n",
       "      <td>3.000000</td>\n",
       "      <td>NaN</td>\n",
       "      <td>NaN</td>\n",
       "      <td>80.000000</td>\n",
       "      <td>8.000000</td>\n",
       "      <td>6.000000</td>\n",
       "      <td>NaN</td>\n",
       "      <td>512.329200</td>\n",
       "      <td>NaN</td>\n",
       "      <td>NaN</td>\n",
       "    </tr>\n",
       "  </tbody>\n",
       "</table>\n",
       "</div>"
      ],
      "text/plain": [
       "          Survived      Pclass                            Name   Sex  \\\n",
       "count   891.000000  891.000000                             891   891   \n",
       "unique         NaN         NaN                             891     2   \n",
       "top            NaN         NaN  Palsson, Master. Gosta Leonard  male   \n",
       "freq           NaN         NaN                               1   577   \n",
       "mean      0.383838    2.308642                             NaN   NaN   \n",
       "std       0.486592    0.836071                             NaN   NaN   \n",
       "min       0.000000    1.000000                             NaN   NaN   \n",
       "25%       0.000000    2.000000                             NaN   NaN   \n",
       "50%       0.000000    3.000000                             NaN   NaN   \n",
       "75%       1.000000    3.000000                             NaN   NaN   \n",
       "max       1.000000    3.000000                             NaN   NaN   \n",
       "\n",
       "               Age       SibSp       Parch Ticket        Fare        Cabin  \\\n",
       "count   714.000000  891.000000  891.000000    891  891.000000          204   \n",
       "unique         NaN         NaN         NaN    681         NaN          147   \n",
       "top            NaN         NaN         NaN   1601         NaN  C23 C25 C27   \n",
       "freq           NaN         NaN         NaN      7         NaN            4   \n",
       "mean     29.699118    0.523008    0.381594    NaN   32.204208          NaN   \n",
       "std      14.526497    1.102743    0.806057    NaN   49.693429          NaN   \n",
       "min       0.420000    0.000000    0.000000    NaN    0.000000          NaN   \n",
       "25%      20.125000    0.000000    0.000000    NaN    7.910400          NaN   \n",
       "50%      28.000000    0.000000    0.000000    NaN   14.454200          NaN   \n",
       "75%      38.000000    1.000000    0.000000    NaN   31.000000          NaN   \n",
       "max      80.000000    8.000000    6.000000    NaN  512.329200          NaN   \n",
       "\n",
       "       Embarked  \n",
       "count       889  \n",
       "unique        3  \n",
       "top           S  \n",
       "freq        644  \n",
       "mean        NaN  \n",
       "std         NaN  \n",
       "min         NaN  \n",
       "25%         NaN  \n",
       "50%         NaN  \n",
       "75%         NaN  \n",
       "max         NaN  "
      ]
     },
     "execution_count": 5,
     "metadata": {},
     "output_type": "execute_result"
    }
   ],
   "source": [
    "data_df.describe(include=\"all\")"
   ]
  },
  {
   "cell_type": "code",
   "execution_count": 6,
   "metadata": {},
   "outputs": [],
   "source": [
    "# Tách X và y\n",
    "y_sr = data_df[\"Survived\"]\n",
    "X_df = data_df.drop(\"Survived\", axis=1)"
   ]
  },
  {
   "cell_type": "code",
   "execution_count": 7,
   "metadata": {},
   "outputs": [
    {
     "data": {
      "text/plain": [
       "Int64Index([232, 837, 640, 390, 598], dtype='int64', name='PassengerId')"
      ]
     },
     "execution_count": 7,
     "metadata": {},
     "output_type": "execute_result"
    }
   ],
   "source": [
    "# Tách tập train và tập validation theo tỉ lệ 70%:30%\n",
    "train_X_df, val_X_df, train_y_sr, val_y_sr = train_test_split(X_df, y_sr, test_size=0.3, stratify=y_sr, random_state=0)\n",
    "train_y = train_y_sr.values\n",
    "val_y = val_y_sr.values\n",
    "\n",
    "train_X_df.head().index"
   ]
  },
  {
   "cell_type": "code",
   "execution_count": 8,
   "metadata": {},
   "outputs": [
    {
     "name": "stdout",
     "output_type": "stream",
     "text": [
      "<class 'pandas.core.frame.DataFrame'>\n",
      "Int64Index: 623 entries, 232 to 81\n",
      "Data columns (total 10 columns):\n",
      "Pclass      623 non-null int64\n",
      "Name        623 non-null object\n",
      "Sex         623 non-null object\n",
      "Age         496 non-null float64\n",
      "SibSp       623 non-null int64\n",
      "Parch       623 non-null int64\n",
      "Ticket      623 non-null object\n",
      "Fare        623 non-null float64\n",
      "Cabin       143 non-null object\n",
      "Embarked    621 non-null object\n",
      "dtypes: float64(2), int64(3), object(5)\n",
      "memory usage: 53.5+ KB\n"
     ]
    }
   ],
   "source": [
    "train_X_df.info()"
   ]
  },
  {
   "cell_type": "code",
   "execution_count": 9,
   "metadata": {},
   "outputs": [
    {
     "name": "stdout",
     "output_type": "stream",
     "text": [
      "<class 'pandas.core.frame.DataFrame'>\n",
      "Int64Index: 268 entries, 422 to 608\n",
      "Data columns (total 10 columns):\n",
      "Pclass      268 non-null int64\n",
      "Name        268 non-null object\n",
      "Sex         268 non-null object\n",
      "Age         218 non-null float64\n",
      "SibSp       268 non-null int64\n",
      "Parch       268 non-null int64\n",
      "Ticket      268 non-null object\n",
      "Fare        268 non-null float64\n",
      "Cabin       61 non-null object\n",
      "Embarked    268 non-null object\n",
      "dtypes: float64(2), int64(3), object(5)\n",
      "memory usage: 23.0+ KB\n"
     ]
    }
   ],
   "source": [
    "val_X_df.info()"
   ]
  },
  {
   "cell_type": "markdown",
   "metadata": {},
   "source": [
    "---\n",
    "## Tiền xử lý tập huấn luyện"
   ]
  },
  {
   "cell_type": "markdown",
   "metadata": {},
   "source": [
    "Đầu tiên, với cột `Name`, ta sẽ tiến hành rút trích ra cột `Title` tương ứng, gồm các giá trị như `Miss`, `Mrs`, `Mr`, `Master` ..., vì trong tên thì phần này có vẻ là sẽ có ích cho việc dự đoán sống/chết. Đếm số lần xuất hiện của mỗi giá trị trong cột `Title` và lưu kết quả vào biến `title_counts` (là Series với index là các giá trị có thể có của `Title`)\n",
    "\n",
    "Lưu ý: không làm thay đổi `train_X_df`."
   ]
  },
  {
   "cell_type": "code",
   "execution_count": 10,
   "metadata": {
    "deletable": false,
    "nbgrader": {
     "checksum": "f544ac6be5b38cb2242b5533174c91b0",
     "grade": false,
     "grade_id": "cell-81f57381ec48178b",
     "locked": false,
     "schema_version": 1,
     "solution": true
    }
   },
   "outputs": [],
   "source": [
    "# Tạo cột Title\n",
    "Title = pd.Series() \n",
    "# Duyệt từng dòng của cột Name trong train_X_df và thực hiện tách chuỗi \n",
    "# Để lấy được Miss, Mrs, Mr,... nằm sau dấu \",\" và trước dấu \".\" thì dùng split để tách và strip để xoá khoảng trắng \n",
    "for name in train_X_df['Name']: \n",
    "    Title[name] = name.split(',')[1].split('.')[0].strip()\n",
    "\n",
    "title_counts = Title.value_counts()"
   ]
  },
  {
   "cell_type": "code",
   "execution_count": 11,
   "metadata": {
    "deletable": false,
    "editable": false,
    "nbgrader": {
     "checksum": "6fa9b4cdbebc841298ec3c82d9d6d618",
     "grade": true,
     "grade_id": "cell-99110bf4db3c57f2",
     "locked": true,
     "points": 0.5,
     "schema_version": 1,
     "solution": false
    }
   },
   "outputs": [],
   "source": [
    "# Test\n",
    "assert len(title_counts) == 14\n",
    "assert title_counts.loc[\"Mr\"] == 357\n",
    "assert title_counts.loc[\"Miss\"] == 125\n",
    "assert title_counts.loc[\"Mrs\"] == 89\n",
    "assert title_counts.loc[\"Master\"] == 32"
   ]
  },
  {
   "cell_type": "markdown",
   "metadata": {},
   "source": [
    "Class `ColDropper` (theo dạng Transfomer của Sklearn) sẽ thực hiện các công việc:\n",
    "- Thêm cột `Title` vào DataFrame, trong đó ta sẽ chuyển các giá trị xuất hiện ít (không thuộc tập `[\"Mr\", \"Miss\", \"Mrs\", \"Master\"]`) thành giá trị `Rare`.\n",
    "- Bỏ cột `Name`.\n",
    "- Bỏ cột `Cabin` vì cột này có nhiều giá thiếu, và có vẻ cột này sẽ không giúp ích được gì nhiều cho việc dự đoán sống/chết.\n",
    "- Bỏ cột `Ticket` vì cột này có giá trị không phải dạng số, sẽ cần phải tốn sức để chuyển sang dạng số, và có vẻ cột này cũng sẽ không giúp ích được gì nhiều cho việc dự đoán sống/chết."
   ]
  },
  {
   "cell_type": "code",
   "execution_count": 12,
   "metadata": {},
   "outputs": [
    {
     "data": {
      "text/html": [
       "<div>\n",
       "<style scoped>\n",
       "    .dataframe tbody tr th:only-of-type {\n",
       "        vertical-align: middle;\n",
       "    }\n",
       "\n",
       "    .dataframe tbody tr th {\n",
       "        vertical-align: top;\n",
       "    }\n",
       "\n",
       "    .dataframe thead th {\n",
       "        text-align: right;\n",
       "    }\n",
       "</style>\n",
       "<table border=\"1\" class=\"dataframe\">\n",
       "  <thead>\n",
       "    <tr style=\"text-align: right;\">\n",
       "      <th></th>\n",
       "      <th>Pclass</th>\n",
       "      <th>Sex</th>\n",
       "      <th>Age</th>\n",
       "      <th>SibSp</th>\n",
       "      <th>Parch</th>\n",
       "      <th>Fare</th>\n",
       "      <th>Embarked</th>\n",
       "      <th>Title</th>\n",
       "    </tr>\n",
       "    <tr>\n",
       "      <th>PassengerId</th>\n",
       "      <th></th>\n",
       "      <th></th>\n",
       "      <th></th>\n",
       "      <th></th>\n",
       "      <th></th>\n",
       "      <th></th>\n",
       "      <th></th>\n",
       "      <th></th>\n",
       "    </tr>\n",
       "  </thead>\n",
       "  <tbody>\n",
       "    <tr>\n",
       "      <th>357</th>\n",
       "      <td>1</td>\n",
       "      <td>female</td>\n",
       "      <td>22.0</td>\n",
       "      <td>0</td>\n",
       "      <td>1</td>\n",
       "      <td>55.0000</td>\n",
       "      <td>S</td>\n",
       "      <td>Miss</td>\n",
       "    </tr>\n",
       "    <tr>\n",
       "      <th>387</th>\n",
       "      <td>3</td>\n",
       "      <td>male</td>\n",
       "      <td>1.0</td>\n",
       "      <td>5</td>\n",
       "      <td>2</td>\n",
       "      <td>46.9000</td>\n",
       "      <td>S</td>\n",
       "      <td>Master</td>\n",
       "    </tr>\n",
       "    <tr>\n",
       "      <th>358</th>\n",
       "      <td>2</td>\n",
       "      <td>female</td>\n",
       "      <td>38.0</td>\n",
       "      <td>0</td>\n",
       "      <td>0</td>\n",
       "      <td>13.0000</td>\n",
       "      <td>S</td>\n",
       "      <td>Miss</td>\n",
       "    </tr>\n",
       "    <tr>\n",
       "      <th>463</th>\n",
       "      <td>1</td>\n",
       "      <td>male</td>\n",
       "      <td>47.0</td>\n",
       "      <td>0</td>\n",
       "      <td>0</td>\n",
       "      <td>38.5000</td>\n",
       "      <td>S</td>\n",
       "      <td>Mr</td>\n",
       "    </tr>\n",
       "    <tr>\n",
       "      <th>828</th>\n",
       "      <td>2</td>\n",
       "      <td>male</td>\n",
       "      <td>1.0</td>\n",
       "      <td>0</td>\n",
       "      <td>2</td>\n",
       "      <td>37.0042</td>\n",
       "      <td>C</td>\n",
       "      <td>Master</td>\n",
       "    </tr>\n",
       "  </tbody>\n",
       "</table>\n",
       "</div>"
      ],
      "text/plain": [
       "             Pclass     Sex   Age  SibSp  Parch     Fare Embarked   Title\n",
       "PassengerId                                                              \n",
       "357               1  female  22.0      0      1  55.0000        S    Miss\n",
       "387               3    male   1.0      5      2  46.9000        S  Master\n",
       "358               2  female  38.0      0      0  13.0000        S    Miss\n",
       "463               1    male  47.0      0      0  38.5000        S      Mr\n",
       "828               2    male   1.0      0      2  37.0042        C  Master"
      ]
     },
     "execution_count": 12,
     "metadata": {},
     "output_type": "execute_result"
    }
   ],
   "source": [
    "class ColDropper(BaseEstimator, TransformerMixin):\n",
    "    def __init__(self, add_title_col=True):\n",
    "        self.add_title_col = add_title_col\n",
    "    def fit(self, X_df, y=None):\n",
    "        return self\n",
    "    def transform(self, X_df, y=None):\n",
    "        X_df = X_df.copy()\n",
    "        if self.add_title_col:\n",
    "            title_col = X_df.Name.str.extract(\"([a-zA-z]+)\\.\", expand=False)\n",
    "            non_rare_titles = [\"Mr\", \"Miss\", \"Mrs\", \"Master\"]\n",
    "            title_col[~title_col.isin(non_rare_titles)] = \"Rare\"\n",
    "            X_df[\"Title\"] = title_col\n",
    "        dropped_cols = ['Name', 'Ticket', 'Cabin']\n",
    "        X_df.drop(dropped_cols, axis=1, inplace=True)\n",
    "        return X_df\n",
    "# Test ColDropper\n",
    "col_dropper = ColDropper()\n",
    "fewer_cols_train_X_df = col_dropper.fit_transform(train_X_df)\n",
    "fewer_cols_train_X_df.sample(5)"
   ]
  },
  {
   "cell_type": "markdown",
   "metadata": {},
   "source": [
    "Đến đây, các cột dạng số gồm:`Pclass`, `Age`, `SibSp`, `Parch`, `Fare`; các cột dạng chuỗi có giá trị rời rạc không thứ tự (categorical) gồm: `Sex`, `Embarked`, `Title`. Các bước tiền xử lý tiếp theo như sau:\n",
    "- Với các cột dạng số, ta sẽ điền giá trị thiếu bằng giá trị mean của cột <font color=blue>(gợi ý: dùng `SimpleImputer` trong Sklearn)</font>. Với *tất cả* các cột dạng số trong tập huấn luyện, ta đều cần tính mean; vì ta không biết được cột nào sẽ bị thiếu giá trị khi test. \n",
    "- Với các cột dạng chuỗi có giá trị rời rạc không thứ tự:\n",
    "    - Ta sẽ điền giá trị thiếu bằng giá trị mode (giá trị xuất hiện nhiều nhất) của cột <font color=blue>(gợi ý: dùng `SimpleImputer` trong Sklearn)</font>. Với *tất cả* các cột dạng chuỗi có giá trị rời rạc không thứ tự trong tập huấn luyện, ta đều cần tính mode; vì ta không biết được cột nào sẽ bị thiếu giá trị khi test.\n",
    "    - Sau đó, ta sẽ chuyển sang dạng số bằng phương pháp mã hóa one-hot <font color=blue>(gợi ý: dùng `OneHotEncoder` trong Sklearn)</font>.\n",
    "- Cuối cùng, khi tất cả các cột đã được điền giá trị thiếu và đã có dạng số, ta sẽ tiến hành chuẩn hóa bằng cách trừ đi mean và chia cho độ lệch chuẩn của cột để giúp cho các thuật toán cực tiểu hóa như Gradient Descent, LBFGS, ... hội tụ nhanh hơn <font color=blue>(gợi ý: dùng `StandardScaler` trong Sklearn)</font>.\n",
    "\n",
    "Nhiệm vụ tạo ra một pipeline, đặt tên là `full_preprocess_pipeline`, bao gồm: bước thêm cột `Title` và bỏ các cột (đã cài đặt ở class `ColDropper`), và tất cả các bước ở đây. Sau khi tạo ra được pipeline này rồi, gọi phương thức `fit_transform` với đầu vào là `train_X_df` để tính các tham số (ví dụ, mean và mode ở bước xử lý giá trị thiếu, mean và độ lệch chuẩn ở bước chuẩn hóa, ...) và đồng thời tiền xử lý `train_X_df`; kết quả trả về sẽ là `train_X_df` sau khi đã tiền xử lý, là một mảng Numpy, đặt tên là `preprocessed_train_X`. <font color=blue>(Gợi ý: dùng `Pipeline` hoặc `make_pipeline`trong Sklearn, có thể xem sự khác biệt của 2 cái này [ở đây](https://stackoverflow.com/questions/40708077/what-is-the-difference-between-pipeline-and-make-pipeline-in-scikit); ngoài ra, có thể dùng `ColumnTransformer` hoặc `make_column_transformer` để tạo ra một pipeline mà gồm vài pipeline thành phần, các pipeline thành phần làm trên các tập cột khác nhau trong DataFrame.)</font>"
   ]
  },
  {
   "cell_type": "code",
   "execution_count": 13,
   "metadata": {
    "deletable": false,
    "nbgrader": {
     "checksum": "5adc8e3b16729375955fa1a5d9c20a71",
     "grade": false,
     "grade_id": "cell-ae75d7dfa7256c7f",
     "locked": false,
     "schema_version": 1,
     "solution": true
    }
   },
   "outputs": [],
   "source": [
    "num_cols = ['Pclass', 'Age', 'SibSp', 'Parch', 'Fare']\n",
    "cat_cols = ['Sex', 'Embarked', 'Title']\n",
    "\n",
    "# Tạo Pipeline điền giá trị thiếu cho các cột numeric\n",
    "num_transformer = Pipeline([('simple_imputer', SimpleImputer(strategy='mean', fill_value='missing'))])\n",
    "\n",
    "# Tạo Pipeline điền giá trị thiếu và chuẩn hoá về dạng số cho các cột categorical\n",
    "cat_transformer = Pipeline([('simple_imputer', SimpleImputer(strategy='most_frequent', fill_value='missing')),\n",
    "                            ('onehot_encoder', OneHotEncoder(handle_unknown='ignore'))])\n",
    "\n",
    "# Tạo ColumnTransformer và truyền giá trị tên các cột vào\n",
    "numcat_transformer = ColumnTransformer([('numeric', num_transformer, num_cols),\n",
    "                                        ('categorical', cat_transformer, cat_cols)])\n",
    "\n",
    "# Tạo Pipeline đầy đủ các quy trình gồm thêm cột Title -> Chuẩn hoá các cột -> StandardScaler\n",
    "full_preprocess_pipeline = Pipeline([('col_dropper', ColDropper()),\n",
    "                                     ('numcat_transformer', numcat_transformer),\n",
    "                                     ('std_scaler', StandardScaler())])\n",
    "\n",
    "preprocessed_train_X = full_preprocess_pipeline.fit_transform(train_X_df)"
   ]
  },
  {
   "cell_type": "code",
   "execution_count": 14,
   "metadata": {
    "deletable": false,
    "editable": false,
    "nbgrader": {
     "checksum": "3d036c929508bb72d4bafc52db8b745d",
     "grade": true,
     "grade_id": "cell-1cf65ae2cdb14c0c",
     "locked": true,
     "points": 3,
     "schema_version": 1,
     "solution": false
    }
   },
   "outputs": [],
   "source": [
    "# Test\n",
    "assert preprocessed_train_X.shape == (623, 15)\n",
    "row0 = {-0.736, -0.501, -0.481, -0.48, -0.479, -0.478, -0.408, -0.295, -0.233, -0.182, -0.041, 0.603, 0.736, 0.844, 0.863}\n",
    "row1 = {-0.736, -0.664, -0.501, -0.481, -0.48, -0.478, -0.463, -0.408, -0.295, -0.233, -0.182, 0.603, 0.736, 0.844, 0.863}\n",
    "assert set(np.round(preprocessed_train_X[0], decimals=3)) == row0\n",
    "assert set(np.round(preprocessed_train_X[1], decimals=3)) == row1"
   ]
  },
  {
   "cell_type": "markdown",
   "metadata": {},
   "source": [
    "---\n",
    "## Tiền xử lý tập validation"
   ]
  },
  {
   "cell_type": "markdown",
   "metadata": {},
   "source": [
    "Một khi đã có `full_preprocess_pipeline` với các tham số đã được tính từ tập huấn luyện, ta có thể dễ dàng dùng phương thức `transform` để tiền xử lý cho các input mới trong tập validation và tập test. Dưới đây, làm như vậy để tiền xử lý cho `val_X_df` và lưu kết quả vào `preprocessed_val_X`."
   ]
  },
  {
   "cell_type": "code",
   "execution_count": 15,
   "metadata": {
    "deletable": false,
    "nbgrader": {
     "checksum": "986f547abfe534258eb2c41f692c1084",
     "grade": false,
     "grade_id": "cell-5b00ff693785976e",
     "locked": false,
     "schema_version": 1,
     "solution": true
    }
   },
   "outputs": [],
   "source": [
    "preprocessed_val_X = full_preprocess_pipeline.transform(val_X_df)"
   ]
  },
  {
   "cell_type": "code",
   "execution_count": 16,
   "metadata": {
    "deletable": false,
    "editable": false,
    "nbgrader": {
     "checksum": "d1cfaf89e2a1eb8b5b1080c889fa543e",
     "grade": true,
     "grade_id": "cell-b9c978682fecdf3c",
     "locked": true,
     "points": 0.5,
     "schema_version": 1,
     "solution": false
    }
   },
   "outputs": [],
   "source": [
    "# Test\n",
    "assert preprocessed_val_X.shape == (268, 15)\n",
    "row0 = {-1.659, -0.736, -0.664, -0.501, -0.481, -0.48, -0.478, -0.408, -0.233, -0.182, 0.736, 0.844, 0.863, 3.385}\n",
    "row1 = {-1.988, -1.358, -1.158, -0.478, -0.408, -0.346, -0.295, -0.233, -0.182, 0.098, 0.603, 0.831, 1.358, 1.38, 1.996}\n",
    "assert set(np.round(preprocessed_val_X[0], 3)) == row0\n",
    "assert set(np.round(preprocessed_val_X[1], 3)) == row1"
   ]
  },
  {
   "cell_type": "markdown",
   "metadata": {},
   "source": [
    "Giải thích tại sao không nên làm 2 cách sau:\n",
    "- Tiền xử lý tập validation bằng các tham số của tập validation\n",
    "- Hoặc tiền xử lý tất cả dữ liệu rồi mới tách tập validation"
   ]
  },
  {
   "cell_type": "markdown",
   "metadata": {
    "deletable": false,
    "nbgrader": {
     "checksum": "2a1567a9361126ee5dd2d6371498efda",
     "grade": true,
     "grade_id": "cell-c9f9e4ac63684628",
     "locked": false,
     "points": 1,
     "schema_version": 1,
     "solution": true
    }
   },
   "source": [
    "Trả lời:\n",
    "\n",
    "1/ Không tiền xử lý tập validation bằng các tham số của tập validation vì: tập validation có dữ liệu có thể nhỏ, nếu dùng tham số tập validation để tiền xử lý thì hàm sẽ dùng mean và std của tập validation có thể gây sai lệch không đúng với thực tế. Tập train có số lượng lớn có mean và std tính tổng quát khách quan hơn nên tập validation phải scaling dựa vào mean và std của tập train.\n",
    "\n",
    "\n",
    "2/ Không tiền xử lý tất cả dữ liệu rồi mới tách tập validation vì: Làm như vậy được xem là \"học trước\" vì đã nhìn fit vào tập validation, gây ô nhiễm tập validation. Tập validation phải như tập test hoàn toàn được giữ kín, không được đụng đến."
   ]
  },
  {
   "cell_type": "markdown",
   "metadata": {},
   "source": [
    "---\n",
    "## Huấn luyện Neural Network với L2 regularization\n",
    "Để thấy được ảnh hưởng của L2 regularization (weight decay) tới quá trình học, huấn luyện 5 mô hình Neural Net với 5 giá trị `alpha` khác nhau: 0.1, 1, 10, 100, 1000; các siêu tham số khác cố định như sau: `hidden_layer_sizes=(50), activation=\"tanh\", solver=\"lbfgs\", random_state=0`. \n",
    "\n",
    "Mỗi mỗi mô hình, in ra độ lỗi trên tập huấn luyện và trên tập validation. Cuối cùng, chọn mô hình tốt nhất là mô hình có độ lỗi trên tập validation nhỏ nhất; lưu mô hình này vào biến `best_l2_nnet` và lưu độ lỗi tương ứng trên tập validation vào biến `best_l2_val_err`."
   ]
  },
  {
   "cell_type": "code",
   "execution_count": 17,
   "metadata": {
    "deletable": false,
    "nbgrader": {
     "checksum": "893a3bcd668790a3aa75cd6e88b6393a",
     "grade": true,
     "grade_id": "cell-e066cce3255f3b17",
     "locked": false,
     "points": 1,
     "schema_version": 1,
     "solution": true
    }
   },
   "outputs": [
    {
     "name": "stdout",
     "output_type": "stream",
     "text": [
      "alpha =    0.1, train_err =   6.42%, val_err =  20.90%\n",
      "alpha =    1.0, train_err =  11.56%, val_err =  17.91%\n",
      "alpha =   10.0, train_err =  17.50%, val_err =  16.79%\n",
      "alpha =  100.0, train_err =  19.10%, val_err =  19.40%\n",
      "alpha = 1000.0, train_err =  38.36%, val_err =  38.43%\n",
      "\n",
      "best_l2_val_err =  16.79%\n"
     ]
    }
   ],
   "source": [
    "best_l2_nnet = None\n",
    "best_l2_val_err = float(\"inf\")\n",
    "for alpha in [0.1, 1, 10, 100, 1000]:\n",
    "    # Tạo model\n",
    "    neural_net_model = MLPClassifier(hidden_layer_sizes=(50), activation=\"tanh\", \n",
    "                                     alpha = alpha, solver=\"lbfgs\", \n",
    "                                     max_iter=200, random_state=0)\n",
    "    \n",
    "    # Huấn luyện model\n",
    "    neural_net_model.fit(preprocessed_train_X, train_y_sr)\n",
    "    \n",
    "    # Tính độ lỗi trung bình trên tập train và tập validation\n",
    "    train_err = np.mean(train_y_sr != neural_net_model.predict(preprocessed_train_X)) * 100\n",
    "    val_err = np.mean(val_y_sr != neural_net_model.predict(preprocessed_val_X)) * 100\n",
    "    print(\"alpha = {:6.1f}, train_err = {:6.2f}%, val_err = {:6.2f}%\".format(alpha, train_err, val_err))\n",
    "    \n",
    "    # Tìm giá trị độ lỗi nhỏ nhất trên validtion, lưu lại model và độ lỗi nhỏ nhất\n",
    "    if(val_err < best_l2_val_err):\n",
    "        best_l2_val_err = val_err\n",
    "        best_l2_nnet = neural_net_model\n",
    "    \n",
    "print(\"\\nbest_l2_val_err = {:6.2f}%\".format(best_l2_val_err))\n",
    "# Kết quả của mình:\n",
    "# alpha =    0.1, train_err =   6.42%, val_err =  20.90%\n",
    "# alpha =    1.0, train_err =  11.56%, val_err =  17.91%\n",
    "# alpha =   10.0, train_err =  17.50%, val_err =  16.79%\n",
    "# alpha =  100.0, train_err =  19.10%, val_err =  19.40%\n",
    "# alpha = 1000.0, train_err =  38.36%, val_err =  38.43%\n",
    "# best_l2_val_err =  16.79%"
   ]
  },
  {
   "cell_type": "markdown",
   "metadata": {},
   "source": [
    "Hãy nhận xét và giải thích kết quả."
   ]
  },
  {
   "cell_type": "markdown",
   "metadata": {
    "deletable": false,
    "nbgrader": {
     "checksum": "72b167a2053875596214c026d78da492",
     "grade": true,
     "grade_id": "cell-2c31e8216f055991",
     "locked": false,
     "points": 1,
     "schema_version": 1,
     "solution": true
    }
   },
   "source": [
    "* Nhận xét: Độ lỗi giảm dần từ alpha = 0.1 và đến alpha = 10.0 thì độ lỗi nhỏ nhất trong tập alpha. Sau đó độ lỗi tăng dần đến khi alpha = 1000.0\n",
    "\n",
    "\n",
    "* Giải thích: Với alpha là siêu tham số cho biết mức độ kìm hãm:\n",
    "    + Nếu alpha quá lớn thì mô hình sẽ bị kìm hãm quá mức, không fit được nhiễu nhưng cũng không fit được tín hiệu thật sự dẫn tới underfit ===> Tương ứng với alpha = 1000\n",
    "    + Nếu alpha quá bé thì có thể sẽ không đủ để kìm hãm mô hình, mô hình có thể sẽ fit vào nhiễu dẫn tới bị overfit ===> Tương ứng với alpha = 0.1\n",
    "    + Vậy với alpha = 10 là trung dung vừa có thể kìm hãm nhiễu, vừa có thể fit được tín hiệu thật"
   ]
  },
  {
   "cell_type": "markdown",
   "metadata": {},
   "source": [
    "---\n",
    "## Huấn luyện Neural Network với early stopping\n",
    "\n",
    "Để thí nghiệm early stopping, ta sẽ huấn luyện Neural Net với 200 vòng lặp và chọn ra mô hình có độ lỗi nhỏ nhất trên tập validation; các siêu tham số khác cố định như sau: `alpha=0, hidden_layer_sizes=(50), activation=\"tanh\", solver=\"lbfgs\", random_state=0`. Lưu mô hình tốt nhất vào biến `best_es_nnet` và độ lỗi tương ứng trên tập validation vào biến `best_es_val_err`. Cần lưu độ lỗi trên tập huấn luyện sau mỗi epoch vào biến `train_errs` (là một list, `len(train_errs)=200`); làm tương tự cho độ lỗi trên tập validation với biến `val_errs`.\n",
    "\n",
    "Trong Sklearn, để có thể can thiệp vào sau mỗi vòng lặp trong quá trình huấn luyện, có thể tạo `MLPClassifier` với siêu tham số `max_iter=1` và `warm_start=True`. Sau đó, có thể tự viết một vòng lặp, ở mỗi vòng lặp thì gọi phương thức `fit`; `warm_start=True` sẽ lấy các giá trị tham số ở trước đó làm điểm bắt đầu của phương thức `fit`, chứ không khởi tạo lại từ đầu nữa. Mình có thử so sánh cho `max_iter=200` và lặp 1 lần với cho `max_iter=1` và lặp 200 lần thì thấy cách đầu cho độ lỗi trên tập huấn luyện thấp hơn; nguyên nhân có thể là do thuật toán LBFGS bình thường có sử dụng các thông tin ở các bước đi trước để giúp ra quyết định tốt hơn về bước đi ở thời điểm hiện tại, nhưng mỗi khi gọi phương thức `fit` thì thuật toán LBFGS bị reset lại, các thông tin về các bước đi trước không còn nữa. Tuy nhiên, tạm thời ở đây sẽ bỏ qua vấn đề này.\n",
    "\n",
    "Ngoài ra, trong quá trình huấn luyện, để lưu lại mô hình với các giá trị tham số hiện tại, có thể dùng hàm `deepcopy`"
   ]
  },
  {
   "cell_type": "code",
   "execution_count": 18,
   "metadata": {
    "deletable": false,
    "nbgrader": {
     "checksum": "eb078b5c4b761a07e55081eaebe5d19b",
     "grade": true,
     "grade_id": "cell-d49f8a1a1e34df0a",
     "locked": false,
     "points": 1,
     "schema_version": 1,
     "solution": true
    }
   },
   "outputs": [
    {
     "name": "stdout",
     "output_type": "stream",
     "text": [
      "best_es_val_err = 15.67%\n"
     ]
    }
   ],
   "source": [
    "nnet = MLPClassifier(hidden_layer_sizes=(50), activation=\"tanh\",\n",
    "                     solver=\"lbfgs\", alpha=0, random_state=0, \n",
    "                     max_iter=1, warm_start=True)\n",
    "max_iter = 200\n",
    "best_es_nnet = None\n",
    "best_es_val_err = float(\"inf\")\n",
    "val_errs = []\n",
    "train_errs = []\n",
    "\n",
    "for iteration in range(max_iter):\n",
    "    # Huấn luyện model\n",
    "    nnet.fit(preprocessed_train_X, train_y_sr)\n",
    "    \n",
    "    # Tính độ lỗi trung bình trên tập train và tập validation\n",
    "    train_errs.append(np.mean(train_y_sr != nnet.predict(preprocessed_train_X)) * 100)\n",
    "    val_errs.append(np.mean(val_y_sr != nnet.predict(preprocessed_val_X)) * 100)\n",
    "    \n",
    "    # Tìm giá trị độ lỗi nhỏ nhất trên validtion, lưu lại model và độ lỗi nhỏ nhất\n",
    "    if(val_errs[iteration] < best_es_val_err):\n",
    "        best_es_val_err = val_errs[iteration]\n",
    "        best_es_nnet = deepcopy(nnet)\n",
    "    \n",
    "print(\"best_es_val_err = {:5.2f}%\".format(best_es_val_err))\n",
    "# Kết quả của mình:\n",
    "# best_es_val_err = 15.67%"
   ]
  },
  {
   "cell_type": "code",
   "execution_count": 19,
   "metadata": {},
   "outputs": [
    {
     "data": {
      "image/png": "[encoded data removed]",
      "text/plain": [
       "<Figure size 432x288 with 1 Axes>"
      ]
     },
     "metadata": {
      "needs_background": "light"
     },
     "output_type": "display_data"
    }
   ],
   "source": [
    "# Trực quan hóa quá trình huấn luyện với early stopping\n",
    "plt.plot(train_errs, \"b\", label=\"train_err\")\n",
    "plt.plot(val_errs, \"g\", label=\"val_err\")\n",
    "plt.legend()\n",
    "plt.xlim(0, len(train_errs)-1)\n",
    "min_y, max_y = plt.ylim()\n",
    "plt.ylim(min_y, max_y)\n",
    "plt.xlabel(\"num epochs\")\n",
    "plt.ylabel(\"error (%)\")\n",
    "best_iter = np.argmin(val_errs)\n",
    "plt.plot([best_iter, best_iter], [min_y, max_y], \"r\")\n",
    "plt.text(best_iter + 1, max_y - 1, 'STOP', color=\"r\");"
   ]
  },
  {
   "cell_type": "markdown",
   "metadata": {},
   "source": [
    "Hãy nhận xét và giải thích về đồ thị kết quả ở trên."
   ]
  },
  {
   "cell_type": "markdown",
   "metadata": {
    "deletable": false,
    "nbgrader": {
     "checksum": "f2377b9fe6bf1644a4fa5e1dbeaea1de",
     "grade": true,
     "grade_id": "cell-59e097d71d937ed3",
     "locked": false,
     "points": 1,
     "schema_version": 1,
     "solution": true
    }
   },
   "source": [
    "* Nhận xét: Mô hình trên có vạch đỏ thể hiện điểm dừng được dừng lại tại chỗ độ lỗi trên tập validation có xu hướng tăng lên và chọn mô hình trước thời điểm đó làm mô hình huấn luyện, ban đầu độ lỗi tập validation giảm xuống đáng kể sau quá trình học một lúc và dần ổn định nhưng càng về sau thì độ lỗi có xu hướng tăng lên.\n",
    "\n",
    "\n",
    "* Giải thích: Với sau mỗi vòng lặp thì độ lỗi trên tập train sẽ càng giảm và tập validation sẽ càng giảm nhưng càng về sau độ lỗi trên tập validation tăng lên còn tập train thì giảm xuống chứng tỏ mô hình đã bị overfitting nên việc làm early stopping để mô hình dừng lại trước khi overfit xảy ra, vì vậy khi độ lỗi trên validation có xu hướng tăng thì lập tức dừng lại"
   ]
  },
  {
   "cell_type": "markdown",
   "metadata": {},
   "source": [
    "---\n",
    "## Kiểm tra\n",
    "\n",
    "Trong hai mô hình `best_l2_nnet` và `best_es_nnet`, chọn mô hình có độ lỗi nhỏ nhất trên tập validation là mô hình cuối cùng (của mình là mô hình `best_es_nnet`). Sau đó, dùng `full_preprocess_pipeline` + mô hình này để dự đoán với các input trong tập test (file \"test.csv\") và submit kết quả dự đoán lên Kaggle. Để có thể submit thì phải tạo ra file csv có 2 cột: cột thứ nhất là id của các hành khách trong tập test, cột thứ hai là giá trị dự đoán (1 - sống, và 0 - chết)."
   ]
  },
  {
   "cell_type": "code",
   "execution_count": 20,
   "metadata": {
    "deletable": false,
    "nbgrader": {
     "checksum": "dea94865c1b1cddb8fbfb49cf3907c63",
     "grade": true,
     "grade_id": "cell-e184d7a3003ba334",
     "locked": false,
     "points": 0.75,
     "schema_version": 1,
     "solution": true
    }
   },
   "outputs": [],
   "source": [
    "# Load tập test\n",
    "test_X_df = pd.read_csv('test.csv', index_col=0)\n",
    "\n",
    "# Chọn mô hình có độ lỗi nhỏ nhất\n",
    "if (best_l2_val_err <= best_es_val_err):\n",
    "    predict_model = best_l2_nnet\n",
    "else:\n",
    "    predict_model = best_es_nnet\n",
    "\n",
    "# Tiền xử lý\n",
    "preprocessed_test_X = full_preprocess_pipeline.transform(test_X_df)\n",
    "\n",
    "# Dự đoán\n",
    "test_y_sr = predict_model.predict(preprocessed_test_X)\n",
    "\n",
    "# Tạo file my_preds.cvs\n",
    "my_preds = pd.DataFrame(test_X_df.index)\n",
    "my_preds['Survived'] = test_y_sr\n",
    "my_preds.to_csv('my_preds.csv', encoding='utf-8', index=False)"
   ]
  },
  {
   "cell_type": "markdown",
   "metadata": {
    "scrolled": true
   },
   "source": [
    "Kế đến, submit file csv chứa kết quả dự đoán lên [Kaggle](https://www.kaggle.com/c/titanic) (cần tạo một account trên Kaggle), và ghi nhận lại độ lỗi trên tập test ở cell phía dưới."
   ]
  },
  {
   "cell_type": "markdown",
   "metadata": {
    "deletable": false,
    "nbgrader": {
     "checksum": "b369b7d7c79e9110cb16f28db1c29ef0",
     "grade": true,
     "grade_id": "cell-0a8a2d0f116f035d",
     "locked": false,
     "points": 0.25,
     "schema_version": 1,
     "solution": true
    }
   },
   "source": [
    "My Score: 0.80382\n",
    "\n",
    "<img src=\"my_predict_score.PNG\">"
   ]
  }
 ],
 "metadata": {
  "kernelspec": {
   "display_name": "Python 3",
   "language": "python",
   "name": "python3"
  },
  "language_info": {
   "codemirror_mode": {
    "name": "ipython",
    "version": 3
   },
   "file_extension": ".py",
   "mimetype": "text/x-python",
   "name": "python",
   "nbconvert_exporter": "python",
   "pygments_lexer": "ipython3",
   "version": "3.7.0"
  },
  "toc": {
   "nav_menu": {
    "height": "153px",
    "width": "252px"
   },
   "number_sections": false,
   "sideBar": true,
   "skip_h1_title": false,
   "title_cell": "Table of Contents",
   "title_sidebar": "Contents",
   "toc_cell": false,
   "toc_position": {
    "height": "calc(100% - 180px)",
    "left": "10px",
    "top": "150px",
    "width": "165px"
   },
   "toc_section_display": "block",
   "toc_window_display": true
  }
 },
 "nbformat": 4,
 "nbformat_minor": 1
}
